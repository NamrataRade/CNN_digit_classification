{
  "nbformat": 4,
  "nbformat_minor": 0,
  "metadata": {
    "colab": {
      "name": "CNN_digit.ipynb",
      "provenance": [],
      "collapsed_sections": []
    },
    "kernelspec": {
      "name": "python3",
      "display_name": "Python 3"
    }
  },
  "cells": [
    {
      "cell_type": "code",
      "metadata": {
        "id": "iLXpjyLIayoX"
      },
      "source": [
        "from tensorflow.keras.datasets import mnist "
      ],
      "execution_count": null,
      "outputs": []
    },
    {
      "cell_type": "markdown",
      "metadata": {
        "id": "RUGLqSffqcTt"
      },
      "source": [
        "# New Section"
      ]
    },
    {
      "cell_type": "code",
      "metadata": {
        "id": "iLGC3KWxbNuc",
        "colab": {
          "base_uri": "https://localhost:8080/"
        },
        "outputId": "14ffc9b3-65a1-452d-f28d-3b0d490dc914"
      },
      "source": [
        "(x_train, y_train),(x_test,y_test) = mnist.load_data()"
      ],
      "execution_count": null,
      "outputs": [
        {
          "output_type": "stream",
          "text": [
            "Downloading data from https://storage.googleapis.com/tensorflow/tf-keras-datasets/mnist.npz\n",
            "11493376/11490434 [==============================] - 0s 0us/step\n"
          ],
          "name": "stdout"
        }
      ]
    },
    {
      "cell_type": "code",
      "metadata": {
        "colab": {
          "base_uri": "https://localhost:8080/"
        },
        "id": "VgiWGubYbOy2",
        "outputId": "c4b33249-55d8-4c8f-ba4c-215cb019af65"
      },
      "source": [
        "x_train.shape, y_train.shape, x_train[0].shape"
      ],
      "execution_count": null,
      "outputs": [
        {
          "output_type": "execute_result",
          "data": {
            "text/plain": [
              "((60000, 28, 28), (60000,), (28, 28))"
            ]
          },
          "metadata": {
            "tags": []
          },
          "execution_count": 3
        }
      ]
    },
    {
      "cell_type": "code",
      "metadata": {
        "id": "Nt8FqcTtbO1y"
      },
      "source": [
        "#Multiple perceptron\r\n",
        "#x_train = x_train.reshape(-1,784)/255\r\n",
        "#x_test = x_test.reshape(-1,784)/255"
      ],
      "execution_count": null,
      "outputs": []
    },
    {
      "cell_type": "code",
      "metadata": {
        "id": "DOXBU_aftSDB"
      },
      "source": [
        "x_train=x_train/255\r\n",
        "x_test = x_test/255"
      ],
      "execution_count": null,
      "outputs": []
    },
    {
      "cell_type": "code",
      "metadata": {
        "id": "AygaVhYKtEeG"
      },
      "source": [
        "x_train = x_train.reshape(-1,28,28,1)\r\n",
        "x_test = x_test.reshape(-1,28,28,1)"
      ],
      "execution_count": null,
      "outputs": []
    },
    {
      "cell_type": "code",
      "metadata": {
        "id": "XNjZN85-cFxP"
      },
      "source": [
        "from tensorflow.keras.utils import to_categorical"
      ],
      "execution_count": null,
      "outputs": []
    },
    {
      "cell_type": "code",
      "metadata": {
        "id": "JDy40CFNcTog"
      },
      "source": [
        "y_train = to_categorical(y_train,num_classes=10)\r\n",
        "y_test = to_categorical(y_test,num_classes=10)"
      ],
      "execution_count": null,
      "outputs": []
    },
    {
      "cell_type": "code",
      "metadata": {
        "colab": {
          "base_uri": "https://localhost:8080/"
        },
        "id": "xCumMERXc16Y",
        "outputId": "a7431d4d-a1f0-4cde-dfb7-0fe718a7e09b"
      },
      "source": [
        "y_train.shape"
      ],
      "execution_count": null,
      "outputs": [
        {
          "output_type": "execute_result",
          "data": {
            "text/plain": [
              "(60000, 10)"
            ]
          },
          "metadata": {
            "tags": []
          },
          "execution_count": 10
        }
      ]
    },
    {
      "cell_type": "code",
      "metadata": {
        "id": "ltFiBTamc-CM"
      },
      "source": [
        "from tensorflow.keras.models import Sequential\r\n",
        "from tensorflow.keras.layers import Dense, Conv2D, MaxPool2D, Flatten"
      ],
      "execution_count": null,
      "outputs": []
    },
    {
      "cell_type": "code",
      "metadata": {
        "id": "irY-9KFSdr0E"
      },
      "source": [
        "CNN_model = Sequential()\r\n",
        "CNN_model.add(Conv2D(16,(3,3),padding= 'same',input_shape=(28,28,1)))\r\n",
        "CNN_model.add(MaxPool2D(pool_size=(2,2)))\r\n",
        "CNN_model.add(Conv2D(32,(3,3),padding= 'same'))\r\n",
        "CNN_model.add(MaxPool2D(pool_size=(2,2)))\r\n",
        "CNN_model.add(Flatten())\r\n",
        "CNN_model.add(Dense(50,activation='relu'))\r\n",
        "CNN_model.add(Dense(10,activation='softmax'))"
      ],
      "execution_count": null,
      "outputs": []
    },
    {
      "cell_type": "code",
      "metadata": {
        "colab": {
          "base_uri": "https://localhost:8080/"
        },
        "id": "2gFsM7sRf2LL",
        "outputId": "8e686fdb-02f9-4544-faf1-6f3704dce342"
      },
      "source": [
        "CNN_model.summary()"
      ],
      "execution_count": null,
      "outputs": [
        {
          "output_type": "stream",
          "text": [
            "Model: \"sequential\"\n",
            "_________________________________________________________________\n",
            "Layer (type)                 Output Shape              Param #   \n",
            "=================================================================\n",
            "conv2d (Conv2D)              (None, 28, 28, 16)        160       \n",
            "_________________________________________________________________\n",
            "max_pooling2d (MaxPooling2D) (None, 14, 14, 16)        0         \n",
            "_________________________________________________________________\n",
            "conv2d_1 (Conv2D)            (None, 14, 14, 32)        4640      \n",
            "_________________________________________________________________\n",
            "max_pooling2d_1 (MaxPooling2 (None, 7, 7, 32)          0         \n",
            "_________________________________________________________________\n",
            "flatten (Flatten)            (None, 1568)              0         \n",
            "_________________________________________________________________\n",
            "dense (Dense)                (None, 50)                78450     \n",
            "_________________________________________________________________\n",
            "dense_1 (Dense)              (None, 10)                510       \n",
            "=================================================================\n",
            "Total params: 83,760\n",
            "Trainable params: 83,760\n",
            "Non-trainable params: 0\n",
            "_________________________________________________________________\n"
          ],
          "name": "stdout"
        }
      ]
    },
    {
      "cell_type": "code",
      "metadata": {
        "id": "HNmAF9fFgECh"
      },
      "source": [
        "CNN_model.compile(loss='categorical_crossentropy',metrics=['accuracy'],optimizer='adam')"
      ],
      "execution_count": null,
      "outputs": []
    },
    {
      "cell_type": "code",
      "metadata": {
        "colab": {
          "base_uri": "https://localhost:8080/"
        },
        "id": "6DupF7XvghFX",
        "outputId": "960050bd-9dc2-4b41-c0a4-8c8cda75abfa"
      },
      "source": [
        "CNN_model.fit(x_train, y_train, batch_size= 64, epochs=10,validation_data=(x_test,y_test))"
      ],
      "execution_count": null,
      "outputs": [
        {
          "output_type": "stream",
          "text": [
            "Epoch 1/10\n",
            "938/938 [==============================] - 33s 35ms/step - loss: 0.4338 - accuracy: 0.8778 - val_loss: 0.0728 - val_accuracy: 0.9771\n",
            "Epoch 2/10\n",
            "938/938 [==============================] - 32s 34ms/step - loss: 0.0650 - accuracy: 0.9807 - val_loss: 0.0619 - val_accuracy: 0.9798\n",
            "Epoch 3/10\n",
            "938/938 [==============================] - 32s 35ms/step - loss: 0.0412 - accuracy: 0.9869 - val_loss: 0.0415 - val_accuracy: 0.9861\n",
            "Epoch 4/10\n",
            "938/938 [==============================] - 32s 35ms/step - loss: 0.0307 - accuracy: 0.9902 - val_loss: 0.0392 - val_accuracy: 0.9876\n",
            "Epoch 5/10\n",
            "938/938 [==============================] - 33s 35ms/step - loss: 0.0234 - accuracy: 0.9930 - val_loss: 0.0439 - val_accuracy: 0.9862\n",
            "Epoch 6/10\n",
            "938/938 [==============================] - 33s 35ms/step - loss: 0.0199 - accuracy: 0.9931 - val_loss: 0.0353 - val_accuracy: 0.9895\n",
            "Epoch 7/10\n",
            "938/938 [==============================] - 40s 43ms/step - loss: 0.0142 - accuracy: 0.9957 - val_loss: 0.0444 - val_accuracy: 0.9867\n",
            "Epoch 8/10\n",
            "938/938 [==============================] - 33s 35ms/step - loss: 0.0148 - accuracy: 0.9950 - val_loss: 0.0481 - val_accuracy: 0.9863\n",
            "Epoch 9/10\n",
            "938/938 [==============================] - 33s 35ms/step - loss: 0.0127 - accuracy: 0.9955 - val_loss: 0.0427 - val_accuracy: 0.9883\n",
            "Epoch 10/10\n",
            "938/938 [==============================] - 33s 35ms/step - loss: 0.0096 - accuracy: 0.9968 - val_loss: 0.0585 - val_accuracy: 0.9843\n"
          ],
          "name": "stdout"
        },
        {
          "output_type": "execute_result",
          "data": {
            "text/plain": [
              "<tensorflow.python.keras.callbacks.History at 0x7faf7e78c0f0>"
            ]
          },
          "metadata": {
            "tags": []
          },
          "execution_count": 15
        }
      ]
    },
    {
      "cell_type": "code",
      "metadata": {
        "colab": {
          "base_uri": "https://localhost:8080/"
        },
        "id": "KR_zq3uC0-yn",
        "outputId": "3ae40c7e-b85d-4009-9423-52467ce03493"
      },
      "source": [
        "#CNN_model.history.history.keys()"
      ],
      "execution_count": null,
      "outputs": [
        {
          "output_type": "execute_result",
          "data": {
            "text/plain": [
              "dict_keys(['loss', 'accuracy', 'val_loss', 'val_accuracy'])"
            ]
          },
          "metadata": {
            "tags": []
          },
          "execution_count": 36
        }
      ]
    },
    {
      "cell_type": "code",
      "metadata": {
        "colab": {
          "base_uri": "https://localhost:8080/",
          "height": 282
        },
        "id": "OqUZAuNm1RL0",
        "outputId": "19d082e4-10c7-49ba-ba1f-ad9936230409"
      },
      "source": [
        "#plt.plot(CNN_model.history.history['loss'])\r\n",
        "#plt.plot(CNN_model.history.history['val_loss'])"
      ],
      "execution_count": null,
      "outputs": [
        {
          "output_type": "execute_result",
          "data": {
            "text/plain": [
              "[<matplotlib.lines.Line2D at 0x7ff13c2de630>]"
            ]
          },
          "metadata": {
            "tags": []
          },
          "execution_count": 39
        },
        {
          "output_type": "display_data",
          "data": {
            "image/png": "[encoded data removed]",
            "text/plain": [
              "<Figure size 432x288 with 1 Axes>"
            ]
          },
          "metadata": {
            "tags": [],
            "needs_background": "light"
          }
        }
      ]
    },
    {
      "cell_type": "code",
      "metadata": {
        "id": "2jf_2XTV17yE"
      },
      "source": [
        ""
      ],
      "execution_count": null,
      "outputs": []
    },
    {
      "cell_type": "code",
      "metadata": {
        "id": "xul63zGXg3Hj",
        "colab": {
          "base_uri": "https://localhost:8080/"
        },
        "outputId": "5dfdc502-5d7e-437c-aae6-f93973d14c2e"
      },
      "source": [
        "#CNN_model.evaluate(x_test,y_test)"
      ],
      "execution_count": null,
      "outputs": [
        {
          "output_type": "stream",
          "text": [
            "313/313 [==============================] - 3s 8ms/step - loss: 0.0499 - accuracy: 0.9874\n"
          ],
          "name": "stdout"
        },
        {
          "output_type": "execute_result",
          "data": {
            "text/plain": [
              "[0.04992453753948212, 0.9873999953269958]"
            ]
          },
          "metadata": {
            "tags": []
          },
          "execution_count": 15
        }
      ]
    },
    {
      "cell_type": "code",
      "metadata": {
        "id": "0yVV0ZNPv9p4"
      },
      "source": [
        "_,(X_test,Y_test)= mnist.load_data()"
      ],
      "execution_count": null,
      "outputs": []
    },
    {
      "cell_type": "code",
      "metadata": {
        "id": "1fbk80T_wVYO"
      },
      "source": [
        "import matplotlib.pyplot as plt\r\n"
      ],
      "execution_count": null,
      "outputs": []
    },
    {
      "cell_type": "code",
      "metadata": {
        "colab": {
          "base_uri": "https://localhost:8080/"
        },
        "id": "RJymUHdTwcvr",
        "outputId": "a0e0c1c2-ef5b-4a77-e9ac-61115fd087be"
      },
      "source": [
        "#sample = np.array([X_test[0],X_test[1]])\r\n",
        "sample= X_test[0]\r\n",
        "sample.shape"
      ],
      "execution_count": null,
      "outputs": [
        {
          "output_type": "execute_result",
          "data": {
            "text/plain": [
              "(28, 28)"
            ]
          },
          "metadata": {
            "tags": []
          },
          "execution_count": 18
        }
      ]
    },
    {
      "cell_type": "code",
      "metadata": {
        "colab": {
          "base_uri": "https://localhost:8080/",
          "height": 282
        },
        "id": "a0hmybYQwmLC",
        "outputId": "c02e02e3-9e45-430c-a0c1-cc7db26c8968"
      },
      "source": [
        "plt.imshow(sample,cmap='gray')"
      ],
      "execution_count": null,
      "outputs": [
        {
          "output_type": "execute_result",
          "data": {
            "text/plain": [
              "<matplotlib.image.AxesImage at 0x7faf7af399b0>"
            ]
          },
          "metadata": {
            "tags": []
          },
          "execution_count": 19
        },
        {
          "output_type": "display_data",
          "data": {
            "image/png": "[encoded data removed]",
            "text/plain": [
              "<Figure size 432x288 with 1 Axes>"
            ]
          },
          "metadata": {
            "tags": [],
            "needs_background": "light"
          }
        }
      ]
    },
    {
      "cell_type": "code",
      "metadata": {
        "id": "U_Ldf6SSwzxY"
      },
      "source": [
        "a=sample.reshape(-1,28,28,1)\r\n",
        "b=CNN_model.predict(a)\r\n"
      ],
      "execution_count": null,
      "outputs": []
    },
    {
      "cell_type": "code",
      "metadata": {
        "colab": {
          "base_uri": "https://localhost:8080/"
        },
        "id": "e5qr9123yWnK",
        "outputId": "31788069-88b2-4c27-9cda-3fcf9157b631"
      },
      "source": [
        "a.shape"
      ],
      "execution_count": null,
      "outputs": [
        {
          "output_type": "execute_result",
          "data": {
            "text/plain": [
              "(1, 28, 28, 1)"
            ]
          },
          "metadata": {
            "tags": []
          },
          "execution_count": 21
        }
      ]
    },
    {
      "cell_type": "code",
      "metadata": {
        "colab": {
          "base_uri": "https://localhost:8080/"
        },
        "id": "ElRSRXz6xJNd",
        "outputId": "926b0d95-4fac-4ea3-d11a-bcae8960c4dd"
      },
      "source": [
        "b"
      ],
      "execution_count": null,
      "outputs": [
        {
          "output_type": "execute_result",
          "data": {
            "text/plain": [
              "array([[0., 0., 0., 0., 0., 0., 0., 1., 0., 0.]], dtype=float32)"
            ]
          },
          "metadata": {
            "tags": []
          },
          "execution_count": 22
        }
      ]
    },
    {
      "cell_type": "code",
      "metadata": {
        "id": "KV1OVuJwxKx0"
      },
      "source": [
        "import numpy as np"
      ],
      "execution_count": null,
      "outputs": []
    },
    {
      "cell_type": "code",
      "metadata": {
        "colab": {
          "base_uri": "https://localhost:8080/"
        },
        "id": "PHHlM-lvxROt",
        "outputId": "caa1dc09-3e1e-4d13-8b40-1dc4e8b7c9fd"
      },
      "source": [
        "#np.argmax(b,axis=1)\r\n",
        "np.argmax(b)"
      ],
      "execution_count": null,
      "outputs": [
        {
          "output_type": "execute_result",
          "data": {
            "text/plain": [
              "7"
            ]
          },
          "metadata": {
            "tags": []
          },
          "execution_count": 25
        }
      ]
    },
    {
      "cell_type": "code",
      "metadata": {
        "colab": {
          "base_uri": "https://localhost:8080/"
        },
        "id": "sKlXRUl3xVRG",
        "outputId": "7e2736c1-6987-4efd-8b3d-1515f703f53c"
      },
      "source": [
        "CNN_model.history.history.keys()"
      ],
      "execution_count": null,
      "outputs": [
        {
          "output_type": "execute_result",
          "data": {
            "text/plain": [
              "dict_keys([])"
            ]
          },
          "metadata": {
            "tags": []
          },
          "execution_count": 32
        }
      ]
    },
    {
      "cell_type": "code",
      "metadata": {
        "id": "UTGVKoi2y_7M"
      },
      "source": [
        ""
      ],
      "execution_count": null,
      "outputs": []
    }
  ]
}